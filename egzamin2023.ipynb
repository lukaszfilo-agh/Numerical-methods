{
 "cells": [
  {
   "cell_type": "code",
   "execution_count": 1,
   "id": "706e6941",
   "metadata": {},
   "outputs": [],
   "source": [
    "import numpy as np\n",
    "import scipy as sp\n",
    "import math"
   ]
  },
  {
   "cell_type": "code",
   "execution_count": 16,
   "id": "156d83e0",
   "metadata": {},
   "outputs": [
    {
     "name": "stdout",
     "output_type": "stream",
     "text": [
      "[[ 18 -35  15]\n",
      " [-35  93  -4]\n",
      " [ 15  -4  38]]\n",
      "[1.08036600e+02 1.10750733e-02 4.09523248e+01]\n",
      "0.011075073332976701\n"
     ]
    }
   ],
   "source": [
    "# Podaj najmniejszą z wartości własnych dla macierzy A  z dokładnością do 5 miejsc po przecinku\n",
    "A = np.array([[38, -10, 1], [-10, 19, -38], [1, -38, 110]])\n",
    "A1 = np.array([[18, -35, 15], [-35, 93, -4], [15, -4, 38]])\n",
    "print(A1)\n",
    "eig = np.linalg.eigvals(A1)\n",
    "print(eig)\n",
    "print(np.min(eig))"
   ]
  },
  {
   "cell_type": "code",
   "execution_count": 3,
   "id": "ce339f31",
   "metadata": {},
   "outputs": [
    {
     "name": "stdout",
     "output_type": "stream",
     "text": [
      "[[ 38 -10   1]\n",
      " [-10  19 -38]\n",
      " [  1 -38 110]]\n",
      "22.15851980616034\n"
     ]
    }
   ],
   "source": [
    "# Podaj normę Frobeniusa macierzy A z dokładności do 5 miejsc po przecinku.\n",
    "B = np.array([[3, 5, -8, -5], [-3, 9, 4, -4], [-4, 2, -6, 1], [-5, 8, 0, -10]])\n",
    "print(A)\n",
    "frob = np.linalg.norm(B, 'fro')\n",
    "print(frob)"
   ]
  },
  {
   "cell_type": "code",
   "execution_count": 4,
   "id": "b025f1d7",
   "metadata": {},
   "outputs": [
    {
     "name": "stdout",
     "output_type": "stream",
     "text": [
      "0.00000000000000000000\n"
     ]
    }
   ],
   "source": [
    "# Podaj błąd zaokrąglenia dla zadania A +b - A z dokładności do 20 miejsc po przecinku dla:\n",
    "A = 374787\n",
    "b = 0.0625\n",
    "c = A+b-A\n",
    "print(\"{:.20f}\".format(c-b))"
   ]
  },
  {
   "cell_type": "code",
   "execution_count": 5,
   "id": "f6562462",
   "metadata": {},
   "outputs": [
    {
     "name": "stdout",
     "output_type": "stream",
     "text": [
      "[ 3.18181818 -3.15584416]\n",
      "[ 3.18181818 -3.15584416]\n"
     ]
    }
   ],
   "source": [
    "# Podaj wartość 0-go elementu rozwązania, z dokładnością do 5 miejsca po przecinku, równania Ax=b\n",
    "A = np.array([[-6,-7],[5,-7]])\n",
    "b= np.array([3,38])\n",
    "\n",
    "l, u = sp.linalg.lu(A, permute_l=True)\n",
    "\n",
    "y = np.linalg.solve(l, b)\n",
    "wyn = sp.linalg.solve_triangular(u, y)\n",
    "print(wyn)\n",
    "\n",
    "r = np.linalg.solve(A, b)\n",
    "print(r)"
   ]
  },
  {
   "cell_type": "code",
   "execution_count": 6,
   "id": "2222ac7b",
   "metadata": {},
   "outputs": [
    {
     "name": "stdout",
     "output_type": "stream",
     "text": [
      "[[54 61 35  4]\n",
      " [ 1 11 15 93]]\n",
      "[35 78]\n",
      "4.263256414560601e-14\n",
      "0.00000\n"
     ]
    }
   ],
   "source": [
    "#Podaj wartość normy residum dla rozwiązania układu równań Ax=b z dokładnością do 5 miejsc po przecinku\n",
    "A = np.array([[54, 61, 35, 4], [1, 11, 15, 93]])\n",
    "print(A)\n",
    "b = np.array([35, 78])\n",
    "print(b)\n",
    "x = np.linalg.lstsq(A, b, rcond=None)[0]\n",
    "res = np.linalg.norm(b - A @ x)\n",
    "print(res)\n",
    "print(\"{:.5f}\".format(res)) "
   ]
  },
  {
   "cell_type": "code",
   "execution_count": 7,
   "id": "afe5980f",
   "metadata": {},
   "outputs": [
    {
     "name": "stdout",
     "output_type": "stream",
     "text": [
      "[[ 0  1  0  0]\n",
      " [ 0  0  1  0]\n",
      " [ 0  0  0  1]\n",
      " [ 3  9 -4 10]]\n",
      "[  1. -10.   4.  -9.  -3.]\n"
     ]
    }
   ],
   "source": [
    "# Dla macierzy A wypisz wielomian charakterystyczny\n",
    "A = np.array([[0, 1, 0, 0], [0, 0, 1, 0], [0, 0, 0, 1], [3, 9, -4, 10]])\n",
    "print(A)\n",
    "poly = np.poly(A)\n",
    "print(poly)"
   ]
  },
  {
   "cell_type": "code",
   "execution_count": 8,
   "id": "3d5263f3",
   "metadata": {},
   "outputs": [
    {
     "name": "stdout",
     "output_type": "stream",
     "text": [
      "[-0.42630275]\n"
     ]
    }
   ],
   "source": [
    "# Rozwiąż równanie nieliniowe używając funkcji scipy.optimize.fsolve, \n",
    "# podaj wynik z dokładności do 5 miejsc po przecinku\n",
    "# Dla warunku początkowego x0 = 0\n",
    "from scipy.optimize import fsolve\n",
    "root = fsolve(lambda x: np.exp(2*x)+x, x0=[0])\n",
    "print(root)"
   ]
  },
  {
   "cell_type": "code",
   "execution_count": 15,
   "id": "ef5b8cbd",
   "metadata": {},
   "outputs": [
    {
     "name": "stdout",
     "output_type": "stream",
     "text": [
      "-0.1669825792315721\n"
     ]
    }
   ],
   "source": [
    "# Korzystając z funkcji scipy.interpolate.barycentric_interpolate podaj wartość \n",
    "# (z dokładnością do 3 miejsc po przecinku ) interpolacji dla funkcji -sin(x) + x**3 w punkcie 0.27662521902624004\n",
    "# obliczonej na 13 węzłach Czybyszewa\n",
    "from scipy.interpolate import barycentric_interpolate\n",
    "\n",
    "# config - start\n",
    "x=0.27662521902624004\n",
    "interpolation_nodes_number=13\n",
    "fun = lambda x: -np.sin(x) + x**3\n",
    "# config - end\n",
    "\n",
    "xch = np.cos(np.linspace(1,interpolation_nodes_number,interpolation_nodes_number)*np.pi/interpolation_nodes_number)\n",
    "\n",
    "fValsX = fun(x)\n",
    "fValsXch = fun(xch)\n",
    "\n",
    "print(barycentric_interpolate(xch, fValsXch, x))"
   ]
  },
  {
   "cell_type": "code",
   "execution_count": 18,
   "id": "0b6e2306",
   "metadata": {},
   "outputs": [
    {
     "name": "stdout",
     "output_type": "stream",
     "text": [
      "[-6. -4.  3.  5.]\n"
     ]
    }
   ],
   "source": [
    "# Znajdź miejsca zerowe wielomianu charakterystycznego macierzy,\n",
    "# Wynik podaj w porządku niemalejącym zakrąglone do liczb całkowitych w postaci [x, y, z, ...]\n",
    "A= [[ 0, 1, 0, 0], [ 0, 0, 1, 0], [ 0, 0, 0, 1], [ 0, -120, -74, -15]]\n",
    "eig = np.linalg.eigvals(A)\n",
    "print(np.sort(eig))"
   ]
  },
  {
   "cell_type": "code",
   "execution_count": 13,
   "id": "9911694b",
   "metadata": {},
   "outputs": [
    {
     "name": "stdout",
     "output_type": "stream",
     "text": [
      "(0.9020261712115984, 3)\n",
      "Sprawdzenie: 7.216209369692788\n"
     ]
    }
   ],
   "source": [
    "# Podaj mantysę liczby 7.216209369692788 z dokładności do 5 miejsc po przecinku.\n",
    "print(math.frexp(7.216209369692788))\n",
    "# mantysa to 0.9020261712115984, cecha to 3\n",
    "print(f\"Sprawdzenie: {0.9020261712115984 * 2**3 }\")"
   ]
  },
  {
   "cell_type": "code",
   "execution_count": 14,
   "id": "509893e6",
   "metadata": {},
   "outputs": [
    {
     "name": "stdout",
     "output_type": "stream",
     "text": [
      "[[1 3 5 6]\n",
      " [7 4 3 4]\n",
      " [4 1 4 7]]\n",
      "2.977502095901732\n"
     ]
    }
   ],
   "source": [
    "# Dokonaj rozkładu macierzy A za pomocą metody QR i podaj wartość pola \n",
    "# R[1,3] z dokładnością do 5 miejsc po przecinku\n",
    "A = np.array([[1, 3, 5, 6], [7, 4, 3, 4], [4, 1, 4, 7]])\n",
    "print(A)\n",
    "Q, R = np.linalg.qr(A)\n",
    "print(R[1,3])"
   ]
  },
  {
   "cell_type": "code",
   "execution_count": null,
   "id": "0fa5c605",
   "metadata": {},
   "outputs": [],
   "source": [
    "# Dokonaj rozkładu macierzy A za pomocą metody QR i podaj wartość pola R[1,3] z dokładnością do 5 miejsc po przecinku\n",
    "# na przedziale [51,54] dla 560 punktów wygenerowanych przy pomocy funkcji linspace. \n",
    "# Wynik podaj z dokładnością do 5 miejsca po przecinku.\n",
    "fun = lambda x: np.sqrt(x + 1) * x\n",
    "\n",
    "x = np.linspace(51, 54, 560)\n",
    "y = fun(x)\n",
    "integral = sp.integrate.trapz(y, x)\n",
    "print(integral)"
   ]
  },
  {
   "cell_type": "code",
   "execution_count": null,
   "id": "7f78ced7",
   "metadata": {},
   "outputs": [],
   "source": []
  }
 ],
 "metadata": {
  "kernelspec": {
   "display_name": "Python 3 (ipykernel)",
   "language": "python",
   "name": "python3"
  },
  "language_info": {
   "codemirror_mode": {
    "name": "ipython",
    "version": 3
   },
   "file_extension": ".py",
   "mimetype": "text/x-python",
   "name": "python",
   "nbconvert_exporter": "python",
   "pygments_lexer": "ipython3",
   "version": "3.9.13"
  }
 },
 "nbformat": 4,
 "nbformat_minor": 5
}
