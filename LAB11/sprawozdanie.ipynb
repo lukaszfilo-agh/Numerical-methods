{
 "cells": [
  {
   "attachments": {},
   "cell_type": "markdown",
   "metadata": {},
   "source": [
    "# <center>Laboratorium Całki<br>Metody Numeryczne</center>"
   ]
  },
  {
   "cell_type": "code",
   "execution_count": 1,
   "metadata": {},
   "outputs": [],
   "source": [
    "import numpy as np\n",
    "import scipy\n",
    "import matplotlib\n",
    "import matplotlib.pyplot as plt\n",
    "import scipy.integrate as sci"
   ]
  },
  {
   "attachments": {},
   "cell_type": "markdown",
   "metadata": {},
   "source": [
    "# Instrukcja:  \n",
    "Na zajęciach należy wykonać poniższe zadania, a następnie sporządzić sprawozdanie zawierające odpowiedzi z komentarzami."
   ]
  },
  {
   "attachments": {},
   "cell_type": "markdown",
   "metadata": {},
   "source": [
    "**Cel zajęć:**  \n",
    "Celem zajęć jest zapoznanie się z metodami całkowania numerycznego funkcji:  \n",
    "$$\n",
    "\\int\\limits_{a}^{b}f(x)dx \n",
    "$$  \n",
    "\n",
    "Dana jest funkcja $f(x)$, należy wyznaczyć wartość całki tej funkcji na przedziale $a$,$b$.\n"
   ]
  },
  {
   "attachments": {},
   "cell_type": "markdown",
   "metadata": {},
   "source": [
    "***Zadanie 1.***    \n",
    "Wyznacz numerycznie wartość całki:   \n",
    "$$\n",
    "\\int\\limits_{a}^{b}\\sin^2(\\cfrac{1}{x-1.01})dx \n",
    "$$\n",
    "\n",
    "Wykonaj następujące czynności:\n",
    "\n",
    "1. Czy możliwe jest całkowanie podanej funkcji na dowolnym przedziale? Swoją odpowiedź uzasadnij.\n",
    "2. Oblicz całkę numerycznie na przedziale $a =0$, $b=1$ przy pomocy następujących metod:  \n",
    "    1. Metoda Prostokątów\n",
    "    2. Metoda Trapezów - [trapezoid](https://docs.scipy.org/doc/scipy/reference/generated/scipy.integrate.trapezoid.html#scipy.integrate.trapezoid)\n",
    "    3. Metoda Kwadratur - [quad](https://docs.scipy.org/doc/scipy/reference/generated/scipy.integrate.quad.html#scipy.integrate.quad)  \n",
    "  \n",
    "Sprawdź jak wyniki róźnią się od siebie, czy ma na nie wpływ długość wektora $\\mathbf{y}$ oraz wartość parametru $dx$\n",
    "\n",
    "3. Porównaj wyniki i czas obliczeń z punktu 1 z funkcjami:\n",
    "    1. [quad](https://docs.scipy.org/doc/scipy/reference/generated/scipy.integrate.quad.html#scipy.integrate.quad)\n",
    "    2. [quadrature](https://docs.scipy.org/doc/scipy/reference/generated/scipy.integrate.quadrature.html#scipy.integrate.quadrature)"
   ]
  },
  {
   "cell_type": "code",
   "execution_count": 2,
   "metadata": {},
   "outputs": [],
   "source": [
    "def func(x):\n",
    "    return np.sin(1/(x-1.01)) ** 2"
   ]
  },
  {
   "cell_type": "code",
   "execution_count": 3,
   "metadata": {},
   "outputs": [],
   "source": [
    "# Metoda Prostokątów\n",
    "def rect(a, b, n):\n",
    "    res = 0.0\n",
    "    dx = float((b-a)/n)\n",
    "    while a < b:\n",
    "        res += dx * func(a)\n",
    "        a += dx\n",
    "    return res"
   ]
  },
  {
   "cell_type": "code",
   "execution_count": 4,
   "metadata": {},
   "outputs": [
    {
     "name": "stdout",
     "output_type": "stream",
     "text": [
      "------------------------------------------------------------------------------\n",
      "Dla n = 1\n",
      "0.6990302684350905\n",
      "819 ns ± 447 ns per loop (mean ± std. dev. of 5 runs, 10 loops each)\n",
      "------------------------------------------------------------------------------\n",
      "------------------------------------------------------------------------------\n",
      "Dla n = 10\n",
      "0.69941546178899\n",
      "5.62 µs ± 278 ns per loop (mean ± std. dev. of 5 runs, 10 loops each)\n",
      "------------------------------------------------------------------------------\n",
      "------------------------------------------------------------------------------\n",
      "Dla n = 100\n",
      "0.6785484841041157\n",
      "52.6 µs ± 7.68 µs per loop (mean ± std. dev. of 5 runs, 10 loops each)\n",
      "------------------------------------------------------------------------------\n",
      "------------------------------------------------------------------------------\n",
      "Dla n = 1000\n",
      "0.6755307299487198\n",
      "571 µs ± 159 µs per loop (mean ± std. dev. of 5 runs, 10 loops each)\n",
      "------------------------------------------------------------------------------\n",
      "------------------------------------------------------------------------------\n",
      "Dla n = 10000\n",
      "0.6755541002159497\n",
      "4.61 ms ± 73 µs per loop (mean ± std. dev. of 5 runs, 10 loops each)\n",
      "------------------------------------------------------------------------------\n",
      "------------------------------------------------------------------------------\n",
      "Dla n = 100000\n",
      "0.675518858514334\n",
      "45.9 ms ± 190 µs per loop (mean ± std. dev. of 5 runs, 10 loops each)\n",
      "------------------------------------------------------------------------------\n"
     ]
    }
   ],
   "source": [
    "step = [1, 10, 100, 1000, 10000, 100000]\n",
    "time_avg_r = np.zeros(len(step))\n",
    "time_std_r = np.zeros(len(step))\n",
    "result_r = np.zeros(len(step))\n",
    "\n",
    "for inx, stepp in enumerate(step):\n",
    "    result_r[inx] = rect(0, 1, stepp)\n",
    "    print('------------------------------------------------------------------------------')\n",
    "    print(f'Dla n = {stepp}')\n",
    "    print(result_r[inx])\n",
    "    saved_timing = %timeit -r 5 -n 10 -o rect(0, 1, stepp)\n",
    "    time_avg_r[inx] = saved_timing.average\n",
    "    time_std_r[inx] = saved_timing.stdev\n",
    "    print('------------------------------------------------------------------------------')"
   ]
  },
  {
   "cell_type": "code",
   "execution_count": 5,
   "metadata": {},
   "outputs": [
    {
     "name": "stdout",
     "output_type": "stream",
     "text": [
      "------------------------------------------------------------------------------\n",
      "Dla n = 1\n",
      "0.0\n",
      "5.95 µs ± 1.4 µs per loop (mean ± std. dev. of 5 runs, 10 loops each)\n",
      "------------------------------------------------------------------------------\n",
      "------------------------------------------------------------------------------\n",
      "Dla n = 10\n",
      "0.7268511896084273\n",
      "5.59 µs ± 438 ns per loop (mean ± std. dev. of 5 runs, 10 loops each)\n",
      "------------------------------------------------------------------------------\n",
      "------------------------------------------------------------------------------\n",
      "Dla n = 100\n",
      "0.6775930219803752\n",
      "5.95 µs ± 723 ns per loop (mean ± std. dev. of 5 runs, 10 loops each)\n",
      "------------------------------------------------------------------------------\n",
      "------------------------------------------------------------------------------\n",
      "Dla n = 1000\n",
      "0.675393284178893\n",
      "The slowest run took 5.18 times longer than the fastest. This could mean that an intermediate result is being cached.\n",
      "17.8 µs ± 13 µs per loop (mean ± std. dev. of 5 runs, 10 loops each)\n",
      "------------------------------------------------------------------------------\n",
      "------------------------------------------------------------------------------\n",
      "Dla n = 10000\n",
      "0.6755063267072553\n",
      "17.2 µs ± 587 ns per loop (mean ± std. dev. of 5 runs, 10 loops each)\n",
      "------------------------------------------------------------------------------\n",
      "------------------------------------------------------------------------------\n",
      "Dla n = 100000\n",
      "0.6755140813304272\n",
      "108 µs ± 2.72 µs per loop (mean ± std. dev. of 5 runs, 10 loops each)\n",
      "------------------------------------------------------------------------------\n"
     ]
    }
   ],
   "source": [
    "# Metoda Trapezów\n",
    "step = [1, 10, 100, 1000, 10000, 100000]\n",
    "time_avg_t = np.zeros(len(step))\n",
    "time_std_t = np.zeros(len(step))\n",
    "result_t = np.zeros(len(step))\n",
    "\n",
    "for inx, stepp in enumerate(step):\n",
    "    dx = (0 - 1)/stepp\n",
    "    x1 = np.linspace(0, 1, stepp)\n",
    "    y1 = func(x1)\n",
    "    result_t[inx] = sci.trapz(y1, x1, dx)\n",
    "    print('------------------------------------------------------------------------------')\n",
    "    print(f'Dla n = {stepp}')\n",
    "    print(result_t[inx])\n",
    "    saved_timing = %timeit -r 5 -n 10 -o sci.trapz(y1, x1, dx)\n",
    "    time_avg_t[inx] = saved_timing.average\n",
    "    time_std_t[inx] = saved_timing.stdev\n",
    "    print('------------------------------------------------------------------------------')"
   ]
  },
  {
   "cell_type": "code",
   "execution_count": 6,
   "metadata": {},
   "outputs": [
    {
     "name": "stdout",
     "output_type": "stream",
     "text": [
      "------------------------------------------------------------------------------\n",
      "Wartość całki obliczona przez funkcje quad: 0.6755141541635237\n",
      "Dokładność obliczenia całki: 7.366444165332977e-09\n",
      "431 µs ± 56.2 µs per loop (mean ± std. dev. of 5 runs, 10 loops each)\n",
      "------------------------------------------------------------------------------\n"
     ]
    }
   ],
   "source": [
    "# Metoda quad\n",
    "print('------------------------------------------------------------------------------')\n",
    "result_q = sci.quad(func, 0, 1)\n",
    "print(f'Wartość całki obliczona przez funkcje quad: {result_q[0]}')\n",
    "print(f'Dokładność obliczenia całki: {result_q[1]}')\n",
    "saved_timing = %timeit -r 5 -n 10 -o sci.quad(func, 0, 1)\n",
    "time_avg_q = saved_timing.average\n",
    "time_std_q = saved_timing.stdev\n",
    "print('------------------------------------------------------------------------------')"
   ]
  },
  {
   "cell_type": "code",
   "execution_count": 7,
   "metadata": {},
   "outputs": [
    {
     "name": "stdout",
     "output_type": "stream",
     "text": [
      "------------------------------------------------------------------------------\n",
      "Wartość całki obliczona przez funkcje quadrature: 0.6755143270593807\n",
      "Różnica wyników pomiędzy dwoma ostatnimi iteracjami: 1.1312937586716032e-08\n",
      "3.6 ms ± 20.6 µs per loop (mean ± std. dev. of 5 runs, 10 loops each)\n",
      "------------------------------------------------------------------------------\n"
     ]
    }
   ],
   "source": [
    "# Metoda quadrature\n",
    "print('------------------------------------------------------------------------------')\n",
    "result_qe = sci.quadrature(func, 0, 1, maxiter=450)\n",
    "print(f'Wartość całki obliczona przez funkcje quadrature: {result_qe[0]}')\n",
    "print(f'Różnica wyników pomiędzy dwoma ostatnimi iteracjami: {result_qe[1]}')\n",
    "saved_timing = %timeit -r 5 -n 10 -o sci.quadrature(func, 0, 1, maxiter=450)\n",
    "time_avg_qe = saved_timing.average\n",
    "time_std_qe = saved_timing.stdev\n",
    "print('------------------------------------------------------------------------------')"
   ]
  },
  {
   "cell_type": "code",
   "execution_count": 8,
   "metadata": {},
   "outputs": [
    {
     "data": {
      "text/plain": [
       "<matplotlib.legend.Legend at 0x11e55d050>"
      ]
     },
     "execution_count": 8,
     "metadata": {},
     "output_type": "execute_result"
    },
    {
     "data": {
      "image/png": "[encoded data removed]",
      "text/plain": [
       "<Figure size 700x700 with 1 Axes>"
      ]
     },
     "metadata": {},
     "output_type": "display_data"
    }
   ],
   "source": [
    "fig1, time = plt.subplots(figsize=(7,7))\n",
    "time.errorbar(step, time_avg_t, yerr=time_std_t, label='Trapz')\n",
    "time.errorbar(step, time_avg_r, yerr=time_std_r, label='Rect')\n",
    "time.set(xscale='log', yscale='log')\n",
    "time.legend()"
   ]
  },
  {
   "attachments": {},
   "cell_type": "markdown",
   "metadata": {},
   "source": [
    "***Zadanie 2.***  \n",
    "Dla funkcji \n",
    "\n",
    "$$f(x) = e^{-x^2}$$\n",
    "\n",
    "wyznacz numerycznie wartośc całki na przedziale $a = 0$, $b=1$  w  taki sam sposób jak w zadaniu 1."
   ]
  },
  {
   "cell_type": "code",
   "execution_count": 9,
   "metadata": {},
   "outputs": [],
   "source": [
    "def func(x):\n",
    "    return np.exp(-x ** 2)"
   ]
  },
  {
   "cell_type": "code",
   "execution_count": 10,
   "metadata": {},
   "outputs": [
    {
     "name": "stdout",
     "output_type": "stream",
     "text": [
      "------------------------------------------------------------------------------\n",
      "Dla n = 1\n",
      "1.0\n",
      "746 ns ± 232 ns per loop (mean ± std. dev. of 5 runs, 10 loops each)\n",
      "------------------------------------------------------------------------------\n",
      "------------------------------------------------------------------------------\n",
      "Dla n = 10\n",
      "0.8146047681903216\n",
      "4.78 µs ± 256 ns per loop (mean ± std. dev. of 5 runs, 10 loops each)\n",
      "------------------------------------------------------------------------------\n",
      "------------------------------------------------------------------------------\n",
      "Dla n = 100\n",
      "0.7499786042621127\n",
      "40.4 µs ± 1.22 µs per loop (mean ± std. dev. of 5 runs, 10 loops each)\n",
      "------------------------------------------------------------------------------\n",
      "------------------------------------------------------------------------------\n",
      "Dla n = 1000\n",
      "0.747140131778599\n",
      "426 µs ± 10 µs per loop (mean ± std. dev. of 5 runs, 10 loops each)\n",
      "------------------------------------------------------------------------------\n",
      "------------------------------------------------------------------------------\n",
      "Dla n = 10000\n",
      "0.7468925261713815\n",
      "4.18 ms ± 69.4 µs per loop (mean ± std. dev. of 5 runs, 10 loops each)\n",
      "------------------------------------------------------------------------------\n",
      "------------------------------------------------------------------------------\n",
      "Dla n = 100000\n",
      "0.7468309722037736\n",
      "42.4 ms ± 388 µs per loop (mean ± std. dev. of 5 runs, 10 loops each)\n",
      "------------------------------------------------------------------------------\n"
     ]
    }
   ],
   "source": [
    "# Metoda Prostokątów\n",
    "step = [1, 10, 100, 1000, 10000, 100000]\n",
    "time_avg_r = np.zeros(len(step))\n",
    "time_std_r = np.zeros(len(step))\n",
    "result_r = np.zeros(len(step))\n",
    "\n",
    "for inx, stepp in enumerate(step):\n",
    "    result_r[inx] = rect(0, 1, stepp)\n",
    "    print('------------------------------------------------------------------------------')\n",
    "    print(f'Dla n = {stepp}')\n",
    "    print(result_r[inx])\n",
    "    saved_timing = %timeit -r 5 -n 10 -o rect(0, 1, stepp)\n",
    "    time_avg_r[inx] = saved_timing.average\n",
    "    time_std_r[inx] = saved_timing.stdev\n",
    "    print('------------------------------------------------------------------------------')"
   ]
  },
  {
   "cell_type": "code",
   "execution_count": 11,
   "metadata": {},
   "outputs": [
    {
     "name": "stdout",
     "output_type": "stream",
     "text": [
      "------------------------------------------------------------------------------\n",
      "Dla n = 1\n",
      "0.0\n",
      "5.88 µs ± 735 ns per loop (mean ± std. dev. of 5 runs, 10 loops each)\n",
      "------------------------------------------------------------------------------\n",
      "------------------------------------------------------------------------------\n",
      "Dla n = 10\n",
      "0.7460668679126695\n",
      "6.22 µs ± 1.08 µs per loop (mean ± std. dev. of 5 runs, 10 loops each)\n",
      "------------------------------------------------------------------------------\n",
      "------------------------------------------------------------------------------\n",
      "Dla n = 100\n",
      "0.7468178769764183\n",
      "5.57 µs ± 300 ns per loop (mean ± std. dev. of 5 runs, 10 loops each)\n",
      "------------------------------------------------------------------------------\n",
      "------------------------------------------------------------------------------\n",
      "Dla n = 1000\n",
      "0.7468240713763741\n",
      "The slowest run took 4.91 times longer than the fastest. This could mean that an intermediate result is being cached.\n",
      "20.9 µs ± 12.3 µs per loop (mean ± std. dev. of 5 runs, 10 loops each)\n",
      "------------------------------------------------------------------------------\n",
      "------------------------------------------------------------------------------\n",
      "Dla n = 10000\n",
      "0.746824132199172\n",
      "17.4 µs ± 870 ns per loop (mean ± std. dev. of 5 runs, 10 loops each)\n",
      "------------------------------------------------------------------------------\n",
      "------------------------------------------------------------------------------\n",
      "Dla n = 100000\n",
      "0.7468241328062957\n",
      "111 µs ± 1.36 µs per loop (mean ± std. dev. of 5 runs, 10 loops each)\n",
      "------------------------------------------------------------------------------\n"
     ]
    }
   ],
   "source": [
    "# Metoda Trapezów\n",
    "step = [1, 10, 100, 1000, 10000, 100000]\n",
    "time_avg_t = np.zeros(len(step))\n",
    "time_std_t = np.zeros(len(step))\n",
    "result_t = np.zeros(len(step))\n",
    "\n",
    "for inx, stepp in enumerate(step):\n",
    "    dx = (0 - 1)/stepp\n",
    "    x1 = np.linspace(0, 1, stepp)\n",
    "    y1 = func(x1)\n",
    "    result_t[inx] = sci.trapz(y1, x1, dx)\n",
    "    print('------------------------------------------------------------------------------')\n",
    "    print(f'Dla n = {stepp}')\n",
    "    print(result_t[inx])\n",
    "    saved_timing = %timeit -r 5 -n 10 -o sci.trapz(y1, x1, dx)\n",
    "    time_avg_t[inx] = saved_timing.average\n",
    "    time_std_t[inx] = saved_timing.stdev\n",
    "    print('------------------------------------------------------------------------------')"
   ]
  },
  {
   "cell_type": "code",
   "execution_count": 12,
   "metadata": {},
   "outputs": [
    {
     "name": "stdout",
     "output_type": "stream",
     "text": [
      "------------------------------------------------------------------------------\n",
      "Wartość całki obliczona przez funkcje quad: 0.7468241328124271\n",
      "Dokładność obliczenia całki: 8.291413475940725e-15\n",
      "10.4 µs ± 1.06 µs per loop (mean ± std. dev. of 5 runs, 10 loops each)\n",
      "------------------------------------------------------------------------------\n"
     ]
    }
   ],
   "source": [
    "# Metoda quad\n",
    "print('------------------------------------------------------------------------------')\n",
    "result_q = sci.quad(func, 0, 1)\n",
    "print(f'Wartość całki obliczona przez funkcje quad: {result_q[0]}')\n",
    "print(f'Dokładność obliczenia całki: {result_q[1]}')\n",
    "saved_timing = %timeit -r 5 -n 10 -o sci.quad(func, 0, 1)\n",
    "time_avg_q = saved_timing.average\n",
    "time_std_q = saved_timing.stdev\n",
    "print('------------------------------------------------------------------------------')"
   ]
  },
  {
   "cell_type": "code",
   "execution_count": 13,
   "metadata": {},
   "outputs": [
    {
     "name": "stdout",
     "output_type": "stream",
     "text": [
      "------------------------------------------------------------------------------\n",
      "Wartość całki obliczona przez funkcje quadrature: 0.7468241328901553\n",
      "Różnica wyników pomiędzy dwoma ostatnimi iteracjami: 6.1239071591501215e-09\n",
      "40.1 µs ± 2.28 µs per loop (mean ± std. dev. of 5 runs, 10 loops each)\n",
      "------------------------------------------------------------------------------\n"
     ]
    }
   ],
   "source": [
    "# Metoda quadrature\n",
    "print('------------------------------------------------------------------------------')\n",
    "result_qe = sci.quadrature(func, 0, 1, maxiter=450)\n",
    "print(f'Wartość całki obliczona przez funkcje quadrature: {result_qe[0]}')\n",
    "print(f'Różnica wyników pomiędzy dwoma ostatnimi iteracjami: {result_qe[1]}')\n",
    "saved_timing = %timeit -r 5 -n 10 -o sci.quadrature(func, 0, 1, maxiter=450)\n",
    "time_avg_qe = saved_timing.average\n",
    "time_std_qe = saved_timing.stdev\n",
    "print('------------------------------------------------------------------------------')"
   ]
  },
  {
   "cell_type": "code",
   "execution_count": 14,
   "metadata": {},
   "outputs": [
    {
     "data": {
      "text/plain": [
       "<matplotlib.legend.Legend at 0x12d93d050>"
      ]
     },
     "execution_count": 14,
     "metadata": {},
     "output_type": "execute_result"
    },
    {
     "data": {
      "image/png": "[encoded data removed]",
      "text/plain": [
       "<Figure size 700x700 with 1 Axes>"
      ]
     },
     "metadata": {},
     "output_type": "display_data"
    }
   ],
   "source": [
    "fig2, time = plt.subplots(figsize=(7, 7))\n",
    "time.errorbar(step, time_avg_t, yerr=time_std_t, label='Trapz')\n",
    "time.errorbar(step, time_avg_r, yerr=time_std_r, label='Rect')\n",
    "time.set(xscale='log', yscale='log')\n",
    "time.legend()"
   ]
  },
  {
   "attachments": {},
   "cell_type": "markdown",
   "metadata": {},
   "source": [
    "***Zadanie 3.***  \n",
    "Dla funkcji \n",
    "\n",
    "$$f(x) = x^{x}$$\n",
    "\n",
    "wyznacz numerycznie wartośc całki na przedziale $a = 1$, $b=2$  w  taki sam sposób jak w zadaniu 1."
   ]
  },
  {
   "cell_type": "code",
   "execution_count": 15,
   "metadata": {},
   "outputs": [],
   "source": [
    "def func(x):\n",
    "    return x ** x"
   ]
  },
  {
   "cell_type": "code",
   "execution_count": 16,
   "metadata": {},
   "outputs": [
    {
     "name": "stdout",
     "output_type": "stream",
     "text": [
      "------------------------------------------------------------------------------\n",
      "Dla n = 1\n",
      "1.0\n",
      "214 ns ± 76.6 ns per loop (mean ± std. dev. of 5 runs, 10 loops each)\n",
      "------------------------------------------------------------------------------\n",
      "------------------------------------------------------------------------------\n",
      "Dla n = 10\n",
      "1.9052531778355322\n",
      "1.23 µs ± 258 ns per loop (mean ± std. dev. of 5 runs, 10 loops each)\n",
      "------------------------------------------------------------------------------\n",
      "------------------------------------------------------------------------------\n",
      "Dla n = 100\n",
      "2.035494339085559\n",
      "9 µs ± 469 ns per loop (mean ± std. dev. of 5 runs, 10 loops each)\n",
      "------------------------------------------------------------------------------\n",
      "------------------------------------------------------------------------------\n",
      "Dla n = 1000\n",
      "2.0529467155835412\n",
      "83.3 µs ± 3.93 µs per loop (mean ± std. dev. of 5 runs, 10 loops each)\n",
      "------------------------------------------------------------------------------\n",
      "------------------------------------------------------------------------------\n",
      "Dla n = 10000\n",
      "2.0506962393450023\n",
      "792 µs ± 10.3 µs per loop (mean ± std. dev. of 5 runs, 10 loops each)\n",
      "------------------------------------------------------------------------------\n",
      "------------------------------------------------------------------------------\n",
      "Dla n = 100000\n",
      "2.0504312345956213\n",
      "7.7 ms ± 35.8 µs per loop (mean ± std. dev. of 5 runs, 10 loops each)\n",
      "------------------------------------------------------------------------------\n"
     ]
    }
   ],
   "source": [
    "# Metoda Prostokątów\n",
    "step = [1, 10, 100, 1000, 10000, 100000]\n",
    "time_avg_r = np.zeros(len(step))\n",
    "time_std_r = np.zeros(len(step))\n",
    "result_r = np.zeros(len(step))\n",
    "\n",
    "for inx, stepp in enumerate(step):\n",
    "    result_r[inx] = rect(1, 2, stepp)\n",
    "    print('------------------------------------------------------------------------------')\n",
    "    print(f'Dla n = {stepp}')\n",
    "    print(result_r[inx])\n",
    "    saved_timing = %timeit -r 5 -n 10 -o rect(1, 2, stepp)\n",
    "    time_avg_r[inx] = saved_timing.average\n",
    "    time_std_r[inx] = saved_timing.stdev\n",
    "    print('------------------------------------------------------------------------------')"
   ]
  },
  {
   "cell_type": "code",
   "execution_count": 17,
   "metadata": {},
   "outputs": [
    {
     "name": "stdout",
     "output_type": "stream",
     "text": [
      "------------------------------------------------------------------------------\n",
      "Dla n = 1\n",
      "0.0\n",
      "6.25 µs ± 1.06 µs per loop (mean ± std. dev. of 5 runs, 10 loops each)\n",
      "------------------------------------------------------------------------------\n",
      "------------------------------------------------------------------------------\n",
      "Dla n = 10\n",
      "2.0563797068397416\n",
      "5.89 µs ± 482 ns per loop (mean ± std. dev. of 5 runs, 10 loops each)\n",
      "------------------------------------------------------------------------------\n",
      "------------------------------------------------------------------------------\n",
      "Dla n = 100\n",
      "2.0504953157954335\n",
      "5.59 µs ± 282 ns per loop (mean ± std. dev. of 5 runs, 10 loops each)\n",
      "------------------------------------------------------------------------------\n",
      "------------------------------------------------------------------------------\n",
      "Dla n = 1000\n",
      "2.0504467165472993\n",
      "The slowest run took 6.78 times longer than the fastest. This could mean that an intermediate result is being cached.\n",
      "17.2 µs ± 16.8 µs per loop (mean ± std. dev. of 5 runs, 10 loops each)\n",
      "------------------------------------------------------------------------------\n",
      "------------------------------------------------------------------------------\n",
      "Dla n = 10000\n",
      "2.050446239346184\n",
      "19.3 µs ± 2.81 µs per loop (mean ± std. dev. of 5 runs, 10 loops each)\n",
      "------------------------------------------------------------------------------\n",
      "------------------------------------------------------------------------------\n",
      "Dla n = 100000\n",
      "2.050446234582837\n",
      "103 µs ± 1.32 µs per loop (mean ± std. dev. of 5 runs, 10 loops each)\n",
      "------------------------------------------------------------------------------\n"
     ]
    }
   ],
   "source": [
    "# Metoda Trapezów\n",
    "step = [1, 10, 100, 1000, 10000, 100000]\n",
    "time_avg_t = np.zeros(len(step))\n",
    "time_std_t = np.zeros(len(step))\n",
    "result_t = np.zeros(len(step))\n",
    "\n",
    "for inx, stepp in enumerate(step):\n",
    "    dx = (1 - 2)/stepp\n",
    "    x1 = np.linspace(1, 2, stepp)\n",
    "    y1 = func(x1)\n",
    "    result_t[inx] = sci.trapz(y1, x1, dx)\n",
    "    print('------------------------------------------------------------------------------')\n",
    "    print(f'Dla n = {stepp}')\n",
    "    print(result_t[inx])\n",
    "    saved_timing = %timeit -r 5 -n 10 -o sci.trapz(y1, x1, dx)\n",
    "    time_avg_t[inx] = saved_timing.average\n",
    "    time_std_t[inx] = saved_timing.stdev\n",
    "    print('------------------------------------------------------------------------------')"
   ]
  },
  {
   "cell_type": "code",
   "execution_count": 18,
   "metadata": {},
   "outputs": [
    {
     "name": "stdout",
     "output_type": "stream",
     "text": [
      "------------------------------------------------------------------------------\n",
      "Wartość całki obliczona przez funkcje quad: 2.0504462345347316\n",
      "Dokładność obliczenia całki: 2.2764526203364127e-14\n",
      "3.29 µs ± 186 ns per loop (mean ± std. dev. of 5 runs, 10 loops each)\n",
      "------------------------------------------------------------------------------\n"
     ]
    }
   ],
   "source": [
    "# Metoda quad\n",
    "print('------------------------------------------------------------------------------')\n",
    "result_q = sci.quad(func, 1, 2)\n",
    "print(f'Wartość całki obliczona przez funkcje quad: {result_q[0]}')\n",
    "print(f'Dokładność obliczenia całki: {result_q[1]}')\n",
    "saved_timing = %timeit -r 5 -n 10 -o sci.quad(func, 1, 2)\n",
    "time_avg_q = saved_timing.average\n",
    "time_std_q = saved_timing.stdev\n",
    "print('------------------------------------------------------------------------------')"
   ]
  },
  {
   "cell_type": "code",
   "execution_count": 19,
   "metadata": {},
   "outputs": [
    {
     "name": "stdout",
     "output_type": "stream",
     "text": [
      "------------------------------------------------------------------------------\n",
      "Wartość całki obliczona przez funkcje quadrature: 2.0504462345169436\n",
      "Różnica wyników pomiędzy dwoma ostatnimi iteracjami: 2.317523062345117e-09\n",
      "34.4 µs ± 1.08 µs per loop (mean ± std. dev. of 5 runs, 10 loops each)\n",
      "------------------------------------------------------------------------------\n"
     ]
    }
   ],
   "source": [
    "# Metoda quadrature\n",
    "print('------------------------------------------------------------------------------')\n",
    "result_qe = sci.quadrature(func, 1, 2, maxiter=450)\n",
    "print(f'Wartość całki obliczona przez funkcje quadrature: {result_qe[0]}')\n",
    "print(f'Różnica wyników pomiędzy dwoma ostatnimi iteracjami: {result_qe[1]}')\n",
    "saved_timing = %timeit -r 5 -n 10 -o sci.quadrature(func, 1, 2, maxiter=450)\n",
    "time_avg_qe = saved_timing.average\n",
    "time_std_qe = saved_timing.stdev\n",
    "print('------------------------------------------------------------------------------')"
   ]
  },
  {
   "cell_type": "code",
   "execution_count": 20,
   "metadata": {},
   "outputs": [
    {
     "data": {
      "text/plain": [
       "<matplotlib.legend.Legend at 0x12db3fd90>"
      ]
     },
     "execution_count": 20,
     "metadata": {},
     "output_type": "execute_result"
    },
    {
     "data": {
      "image/png": "[encoded data removed]",
      "text/plain": [
       "<Figure size 700x700 with 1 Axes>"
      ]
     },
     "metadata": {},
     "output_type": "display_data"
    }
   ],
   "source": [
    "fig3, time = plt.subplots(figsize=(7, 7))\n",
    "time.errorbar(step, time_avg_t, yerr=time_std_t, label='Trapz')\n",
    "time.errorbar(step, time_avg_r, yerr=time_std_r, label='Rect')\n",
    "time.set(xscale='log', yscale='log')\n",
    "time.legend()"
   ]
  },
  {
   "attachments": {},
   "cell_type": "markdown",
   "metadata": {},
   "source": [
    "**Wnioski:**\n",
    "\n",
    "Całkowanie numeryczne jest dobrą metodą na przybliżenie faktycznego wyniku całki oznaczonej, jednak nie daje nam ono stu procentowej dokładności. Algorytm całkowania poprzez metodę prostokątów jest zarazem najszybszy jak i najmniej dokładny, ale po wybraniu dostatecznie małego kroku dx osiąga on według mnie wystarczającą dokładność. Pozostałe algorytmy są coraz bardziej dokładne, ale równocześnie czas ich wykonania rośnie. Czas wykonania metody prostokątów i trapezów w pewnym momecie przekracza czas wykonania metod quad i quadrature przy podobnej dokładności. Z czego wynika że ich stosowanie jest odpowiednie, kiedy zależy nam na dokładnym wyniku."
   ]
  }
 ],
 "metadata": {
  "kernelspec": {
   "display_name": ".venv",
   "language": "python",
   "name": "python3"
  },
  "language_info": {
   "codemirror_mode": {
    "name": "ipython",
    "version": 3
   },
   "file_extension": ".py",
   "mimetype": "text/x-python",
   "name": "python",
   "nbconvert_exporter": "python",
   "pygments_lexer": "ipython3",
   "version": "3.11.2"
  },
  "vscode": {
   "interpreter": {
    "hash": "d6e8475042c50eaf985736fbab33a87df10669a1daae6c75b2c374f872412fbf"
   }
  }
 },
 "nbformat": 4,
 "nbformat_minor": 4
}
